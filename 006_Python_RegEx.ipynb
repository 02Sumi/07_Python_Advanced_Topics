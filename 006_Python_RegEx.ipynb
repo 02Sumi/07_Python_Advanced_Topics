{
 "cells": [
  {
   "cell_type": "markdown",
   "metadata": {},
   "source": [
    "# Python RegEx\n",
    "\n",
    "In this class, you will learn about regular expressions (RegEx), and use Python's re module to work with RegEx (with the help of examples)."
   ]
  },
  {
   "cell_type": "markdown",
   "metadata": {},
   "source": [
    "A **Reg**ular **Ex**pression (RegEx) is a sequence of characters that defines a search pattern. For example,\n",
    "\n",
    "```python\n",
    "^a...s$\n",
    "```\n",
    "\n",
    "The above code defines a RegEx pattern. The pattern is: **any five letter string starting with `a` and ending with `s`**.\n",
    "\n",
    "A pattern defined using RegEx can be used to match against a string.\n",
    "\n",
    "| Expression | String | Matched? | \n",
    "|:----| :--- |:--- |\n",
    "|               |  **`abs`** | No match | \n",
    "|               |  **`alias`** | Match |\n",
    "| **`^a...s$`** |  **`abyss`** | Match |\n",
    "|               |  **`Alias`** | No match |\n",
    "|               |  **`An abacus`** | No match |"
   ]
  },
  {
   "cell_type": "markdown",
   "metadata": {},
   "source": [
    "Python has a module named **`re`** to work with RegEx. Here's an example:"
   ]
  },
  {
   "cell_type": "code",
   "execution_count": 5,
   "metadata": {
    "scrolled": true
   },
   "outputs": [
    {
     "name": "stdout",
     "output_type": "stream",
     "text": [
      "Search successful.\n"
     ]
    }
   ],
   "source": [
    "import re\n",
    "\n",
    "pattern = '^a...s$'\n",
    "test_string = 'abyss'\n",
    "result = re.match(pattern, test_string)\n",
    "\n",
    "if result:\n",
    "  print(\"Search successful.\")\n",
    "else:\n",
    "  print(\"Search unsuccessful!\")\t"
   ]
  },
  {
   "cell_type": "markdown",
   "metadata": {},
   "source": [
    "Here, we used **`re.match()`** function to search **`pattern`** within the **`test_string`**. The method returns a match object if the search is successful. If not, it returns **`None`**."
   ]
  },
  {
   "cell_type": "markdown",
   "metadata": {},
   "source": [
    "There are other several functions defined in the **`re`** module to work with RegEx. Before we explore that, let's learn about regular expressions themselves.\n",
    "\n",
    "If you already know the basics of RegEx, jump to Python RegEx."
   ]
  },
  {
   "cell_type": "markdown",
   "metadata": {},
   "source": [
    "## Specify Pattern Using RegEx\n",
    "\n",
    "To specify regular expressions, metacharacters are used. In the above example, **`^`** and **`$`** are metacharacters."
   ]
  },
  {
   "cell_type": "markdown",
   "metadata": {},
   "source": [
    "## MetaCharacters\n",
    "\n",
    "Metacharacters are characters that are interpreted in a special way by a RegEx engine. Here's a list of metacharacters:\n",
    "\n",
    "###  **`[] . ^ $ * + ? {} () \\ |`**"
   ]
  },
  {
   "cell_type": "markdown",
   "metadata": {},
   "source": [
    "### 1. `[]` - Square brackets\n",
    "\n",
    "Square brackets specifies a set of characters you wish to match.\n",
    "\n",
    "| Expression | String | Matched? | \n",
    "|:----| :--- |:--- |\n",
    "|             |  **`a`** | 1 match | \n",
    "|             |  **`ac`** | 2 matches |\n",
    "| **`[abc]`** |  **`Hey Jude`** | No match |\n",
    "|             |  **`abc de ca`** | 5 matches |\n",
    "\n",
    "Here, **`[abc]`** will match if the string you are trying to match contains any of the **`a`**, **`b`** or **`c`**.\n",
    "\n",
    "You can also specify a range of characters using **`-`** inside square brackets.\n",
    "\n",
    "* **`[a-e]`** is the same as **`[abcde]`**.\n",
    "* **`[1-4]`** is the same as **`[1234]`**.\n",
    "* **`[0-39]`** is the same as **`[01239]`**.\n",
    "\n",
    "You can complement (invert) the character set by using caret **`^`** symbol at the start of a square-bracket.\n",
    "\n",
    "* **`[^abc]`** means any character except **`a`** or **`b`** or **`c`**.\n",
    "* **`[^0-9]`** means any non-digit character."
   ]
  },
  {
   "cell_type": "markdown",
   "metadata": {},
   "source": [
    "### 2. `.` - Period\n",
    "\n",
    "A period matches any single character (except newline **`'\\n'`**).\n",
    "\n",
    "| Expression | String | Matched? | \n",
    "|:----| :--- |:--- |\n",
    "|          |  **`a`** | No match | \n",
    "|          |  **`ac`** | 1 match |\n",
    "| **`..`** |  **`acd`** | 1 match |\n",
    "|          |  **`acde`** | 2 matches (contains 4 characters) |"
   ]
  },
  {
   "cell_type": "markdown",
   "metadata": {},
   "source": [
    "### 3. `^` - Caret\n",
    "\n",
    "The caret symbol **`^`** is used to check if a string **starts with** a certain character.\n",
    "\n",
    "| Expression | String | Matched? | \n",
    "|:----| :--- |:--- |\n",
    "|          |  **`a`** | 1 match | \n",
    "| **`^a`** |  **`abc`** | 1 match |\n",
    "|          |  **`bac`** | No match |\n",
    "|----------|------------|------------------------------------------------------------|\n",
    "| **`^a`** |  **`abc`** | 1 match |\n",
    "|          |  **`acd`** | No match (starts with **`a`** but not followed by **`b`**) |"
   ]
  },
  {
   "cell_type": "markdown",
   "metadata": {},
   "source": [
    "### 4. `$` - Dollar\n",
    "\n",
    "The dollar symbol **`$`** is used to check if a string **ends with** a certain character.\n",
    "\n",
    "| Expression | String | Matched? | \n",
    "|:----| :--- |:--- |\n",
    "|          |  **`a`** | 1 match | \n",
    "| **`a$`** |  **`formula`** | 1 match |\n",
    "|          |  **`cab`** | No result |"
   ]
  },
  {
   "cell_type": "markdown",
   "metadata": {},
   "source": [
    "### 5. `*` - Star\n",
    "\n",
    "The star symbol **`*`** matches **zero or more occurrences** of the pattern left to it.\n",
    "\n",
    "| Expression | String | Matched? | \n",
    "|:----| :--- |:--- |\n",
    "|            |  **`mn`** | 1 match | \n",
    "|            |  **`man`** | 1 match |\n",
    "| **`ma*n`** |  **`maaan`** | 1 match |\n",
    "|            |  **`main`** | No match (**`a`** is not followed by **`n`**) |\n",
    "|            |  **`woman`** | 1 match |"
   ]
  },
  {
   "cell_type": "markdown",
   "metadata": {},
   "source": [
    "### 6. `+` - Plus\n",
    "\n",
    "The plus symbol **`+`** matches **zero or more occurrences** of the pattern left to it.\n",
    "\n",
    "| Expression | String | Matched? | \n",
    "|:----| :--- |:--- |\n",
    "|            |  **`mn`** | No match (no **`a`** character) | \n",
    "|            |  **`man`** | 1 match |\n",
    "| **`ma+n`** |  **`maaan`** | 1 match |\n",
    "|            |  **`main`** | No match (**`a`** is not followed by **`n`**) |\n",
    "|            |  **`woman`** | 1 match |"
   ]
  },
  {
   "cell_type": "markdown",
   "metadata": {},
   "source": [
    "### 7. `?` - Question Mark\n",
    "\n",
    "The question mark symbol **`?`** matches **zero or more occurrences** of the pattern left to it.\n",
    "\n",
    "| Expression | String | Matched? | \n",
    "|:----| :--- |:--- |\n",
    "|            |  **`mn`** | 1 match | \n",
    "|            |  **`man`** | 1 match |\n",
    "| **`ma?n`** |  **`maaan`** | No match (more than one **`a`** character) |\n",
    "|            |  **`main`** | No match (**`a`** is not followed by **`n`**) |\n",
    "|            |  **`woman`** | 1 match |"
   ]
  },
  {
   "cell_type": "markdown",
   "metadata": {},
   "source": [
    "### 8. `{}` - Braces\n",
    "\n",
    "Consider this code: **`{n,m}`**. This means at least **`n`**, and at most **`m`** repetitions of the pattern left to it.\n",
    "\n",
    "| Expression | String | Matched? | \n",
    "|:----| :--- |:--- |\n",
    "|              |  **`abc dat`** | No match | \n",
    "|              |  **`abc daat`** | 1 match (at **`daat`**) |\n",
    "| **`a{2,3}`** |  **`aabc daaat`** | 2 matches (at **`aabc`** and **`daaat`**) |\n",
    "|              |  **`aabc daaaat`** | 2 matches (at **`aabc`** and **`daaaat`**) |\n",
    "\n",
    "Let's try one more example. This RegEx **`[0-9]{2, 4}`** matches at least 2 digits but not more than 4 digits\n",
    "\n",
    "| Expression | String | Matched? | \n",
    "|:----| :--- |:--- |\n",
    "|                  |  **`ab123csde`** | 1 match (match at **`ab123csde`**) | \n",
    "| **`[0-9]{2,4}`** |  **`12 and 345673`** | 3 matches (**`12`**, **`3456`**, **`73`**) |\n",
    "|                  |  **`1 and 2`** | No match |"
   ]
  },
  {
   "cell_type": "markdown",
   "metadata": {},
   "source": [
    "### 9. `|` - Alternation\n",
    "\n",
    "Vertical bar **`|`** is used for alternation (**`or`** operator).\n",
    "\n",
    "| Expression | String | Matched? | \n",
    "|:----| :--- |:--- |\n",
    "|           |  **`cde`** | No match | \n",
    "| **`a\\|b`** |  **`ade`** | 1 match (match at **`ade`**) |\n",
    "|           |  **`acdbea`** | 3 matches (at **`acdbea`**) |\n",
    "\n",
    "Here, **`a|b`** match any string that contains either **`a`** or **`b`**"
   ]
  },
  {
   "cell_type": "markdown",
   "metadata": {},
   "source": [
    "### 10. `()` - Group\n",
    "\n",
    "Parentheses **`()`** is used to group sub-patterns. For example, **`(a|b|c)xz`** match any string that matches either **`a`** or **`b`** or **`c`**. followed by **`xz`**.\n",
    "\n",
    "| Expression | String | Matched? | \n",
    "|:----| :--- |:--- |\n",
    "|                 |  **`ab xz`** | No match | \n",
    "| **`(a\\|b\\|c)xz`** |  **`abxz`** | 1 match (match at **`abxz`**) |\n",
    "|                 |  **`axz cabxz`** | 2 matches (at **`axz cabxz`**) |"
   ]
  },
  {
   "cell_type": "markdown",
   "metadata": {},
   "source": [
    "### 11. `\\` - Backslash\n",
    "\n",
    "Backlash **`\\`** is used to escape various characters including all metacharacters. For example,\n",
    "\n",
    "**`\\$a`** match if a string contains **`$`** followed by **`a`**. Here, **`$`** is not interpreted by a RegEx engine in a special way.\n",
    "\n",
    "If you are unsure if a character has special meaning or not, you can put **`\\`** in front of it. This makes sure the character is not treated in a special way."
   ]
  },
  {
   "cell_type": "markdown",
   "metadata": {},
   "source": [
    "#### Special Sequences\n",
    "\n",
    "Special sequences make commonly used patterns easier to write. Here's a list of special sequences:"
   ]
  },
  {
   "cell_type": "markdown",
   "metadata": {},
   "source": [
    "#### `\\A` - Matches if the specified characters are at the start of a string.\n",
    "\n",
    "| Expression | String | Matched? | \n",
    "|:----| :--- |:--- |\n",
    "| **`\\Athe`** |  **`the sun`** | Match | \n",
    "|             |  **`In the sun`** | No match |"
   ]
  },
  {
   "cell_type": "markdown",
   "metadata": {},
   "source": [
    "#### `\\b` - Matches if the specified characters are at the beginning or end of a word.\n",
    "\n",
    "| Expression | String | Matched? | \n",
    "|:----| :--- |:--- |\n",
    "|             |  **`football`** | Match | \n",
    "| **`\\bfoo`** |  **`a football`** | Match |\n",
    "|             |  **`afootball`** | No match |\n",
    "|-------------|------------|-----------|\n",
    "| **`foo\\b`** |  **`the foo`** | Match |\n",
    "|             |  **`the afoo test`** | Match |\n",
    "|             |  **`the afootest`** | No match |"
   ]
  },
  {
   "cell_type": "markdown",
   "metadata": {},
   "source": [
    "#### `\\B` - Opposite of `\\b`. Matches if the specified characters are not at the beginning or end of a word.\n",
    "\n",
    "| Expression | String | Matched? | \n",
    "|:----| :--- |:--- |\n",
    "|             |  **`football`** | No match | \n",
    "| **`\\Bfoo`** |  **`a football`** | No match |\n",
    "|             |  **`afootball`** | Match |\n",
    "|-------------|------------|-----------|\n",
    "| **`foo\\B`** |  **`the foo`** | No match |\n",
    "|             |  **`the afoo test`** | No match |\n",
    "|             |  **`the afootest`** | Match |"
   ]
  },
  {
   "cell_type": "markdown",
   "metadata": {},
   "source": [
    "#### `\\d` - Matches any non-decimal digit. Equivalent to `[^0-9]`\n",
    "\n",
    "| Expression | String | Matched? | \n",
    "|:----| :--- |:--- |\n",
    "| **`\\D`** |  **`1ab34\"50`** | 3 matches (at **`1ab34\"50`**) | \n",
    "|          |  **`1345`** | No match |"
   ]
  },
  {
   "cell_type": "markdown",
   "metadata": {},
   "source": [
    "#### `\\s` - Matches where a string contains any whitespace character. Equivalent to `[ \\t\\n\\r\\f\\v]`.\n",
    "\n",
    "| Expression | String | Matched? | \n",
    "|:----| :--- |:--- |\n",
    "| **`\\s`** |  **`Python RegEx`** | 1 match | \n",
    "|          |  **`PythonRegEx`** | No match |"
   ]
  },
  {
   "cell_type": "markdown",
   "metadata": {},
   "source": [
    "#### `\\S` - Matches where a string contains any non-whitespace character. Equivalent to `[^ \\t\\n\\r\\f\\v]`.\n",
    "\n",
    "| Expression | String | Matched? | \n",
    "|:----| :--- |:--- |\n",
    "| **`\\S`** |  **`a b`** | 2 matches (at  **`a b`**) | \n",
    "|          |  **` `** | No match |"
   ]
  },
  {
   "cell_type": "markdown",
   "metadata": {},
   "source": [
    "#### `\\w` - Matches any alphanumeric character (digits and alphabets). Equivalent to `[a-zA-Z0-9_]`. By the way, underscore `_` is also considered an alphanumeric character.\n",
    "\n",
    "| Expression | String | Matched? | \n",
    "|:----| :--- |:--- |\n",
    "| **`\\w`** |  **`12&\": ;c`** | 3 matches (at **`12&\": ;c`**) | \n",
    "|          |  **`%\"> !`** | No match |"
   ]
  },
  {
   "cell_type": "markdown",
   "metadata": {},
   "source": [
    "#### `\\W` - Matches any non-alphanumeric character. Equivalent to `[^a-zA-Z0-9_]`.\n",
    "\n",
    "| Expression | String | Matched? | \n",
    "|:----| :--- |:--- |\n",
    "| **`\\W`** |  **`1a2%c`** | 1 match (at **`1a2%c`**) | \n",
    "|          |  **`Python`** | No match |"
   ]
  },
  {
   "cell_type": "markdown",
   "metadata": {},
   "source": [
    "#### `\\Z` - Matches if the specified characters are at the end of a string.\n",
    "\n",
    "| Expression | String | Matched? | \n",
    "|:----| :--- |:--- |\n",
    "|                |  **`I like Python`** | 1 match |\n",
    "| **`Python\\Z`** |  **`I like Python Programming`** | No match | \n",
    "|                |  **`Python is fun.`** | No match |"
   ]
  },
  {
   "cell_type": "markdown",
   "metadata": {},
   "source": [
    ">**Tip**: To build and test regular expressions, you can use RegEx tester tools such as **regex101**. This tool not only helps you in creating regular expressions, but it also helps you learn it.\n",
    "\n",
    "Now you understand the basics of RegEx, let's discuss how to use RegEx in your Python code."
   ]
  },
  {
   "cell_type": "markdown",
   "metadata": {},
   "source": [
    "## Python RegEx\n",
    "\n",
    "Python has a module named re to work with regular expressions. To use it, we need to import the module."
   ]
  },
  {
   "cell_type": "code",
   "execution_count": null,
   "metadata": {},
   "outputs": [],
   "source": [
    "import re"
   ]
  },
  {
   "cell_type": "markdown",
   "metadata": {},
   "source": [
    "The module defines several functions and constants to work with RegEx."
   ]
  },
  {
   "cell_type": "markdown",
   "metadata": {},
   "source": [
    "### 1. `re.findall()`\n",
    "\n",
    "The **`re.findall()`** method returns a list of strings containing all matches."
   ]
  },
  {
   "cell_type": "code",
   "execution_count": null,
   "metadata": {},
   "outputs": [],
   "source": [
    "# Example 1: re.findall()\n",
    "\n",
    "# Program to extract numbers from a string\n",
    "\n",
    "import re\n",
    "\n",
    "string = 'hello 12 hi 89. Howdy 34'\n",
    "pattern = '\\d+'\n",
    "\n",
    "result = re.findall(pattern, string) \n",
    "print(result)\n",
    "\n",
    "# Output: ['12', '89', '34']"
   ]
  },
  {
   "cell_type": "markdown",
   "metadata": {},
   "source": [
    "If the pattern is not found, **`re.findall()`** returns an empty list."
   ]
  },
  {
   "cell_type": "markdown",
   "metadata": {},
   "source": [
    "### 2. `re.split()`\n",
    "\n",
    "The **`re.split`** method splits the string where there is a match and returns a list of strings where the splits have occurred."
   ]
  },
  {
   "cell_type": "code",
   "execution_count": null,
   "metadata": {},
   "outputs": [],
   "source": [
    "# Example 2: re.split()\n",
    "\n",
    "import re\n",
    "\n",
    "string = 'Twelve:12 Eighty nine:89.'\n",
    "pattern = '\\d+'\n",
    "\n",
    "result = re.split(pattern, string) \n",
    "print(result)\n",
    "\n",
    "# Output: ['Twelve:', ' Eighty nine:', '.']"
   ]
  },
  {
   "cell_type": "markdown",
   "metadata": {},
   "source": [
    "If the pattern is not found, **`re.split`** returns a list containing the original string."
   ]
  },
  {
   "cell_type": "markdown",
   "metadata": {},
   "source": [
    "You can pass **`maxsplit`** argument to the **`re.split`** method. It's the maximum number of splits that will occur."
   ]
  },
  {
   "cell_type": "code",
   "execution_count": null,
   "metadata": {},
   "outputs": [],
   "source": [
    "import re\n",
    "\n",
    "string = 'Twelve:12 Eighty nine:89 Nine:9.'\n",
    "pattern = '\\d+'\n",
    "\n",
    "# maxsplit = 1\n",
    "# split only at the first occurrence\n",
    "result = re.split(pattern, string, 1) \n",
    "print(result)\n",
    "\n",
    "# Output: ['Twelve:', ' Eighty nine:89 Nine:9.']"
   ]
  },
  {
   "cell_type": "markdown",
   "metadata": {},
   "source": [
    "By the way, the default value of **`maxsplit`** is 0; meaning all possible splits."
   ]
  },
  {
   "cell_type": "markdown",
   "metadata": {},
   "source": [
    "### 3. `re.sub()`\n",
    "\n",
    "Syntax:\n",
    "\n",
    "```python\n",
    "re.sub(pattern, replace, string)\n",
    "```\n",
    "\n",
    "The method returns a string where matched occurrences are replaced with the content of **`replace`** variable."
   ]
  },
  {
   "cell_type": "code",
   "execution_count": null,
   "metadata": {},
   "outputs": [],
   "source": [
    "# Example 3: re.sub()\n",
    "\n",
    "# Program to remove all whitespaces\n",
    "import re\n",
    "\n",
    "# multiline string\n",
    "string = 'abc 12\\\n",
    "de 23 \\n f45 6'\n",
    "\n",
    "# matches all whitespace characters\n",
    "pattern = '\\s+'\n",
    "\n",
    "# empty string\n",
    "replace = ''\n",
    "\n",
    "new_string = re.sub(pattern, replace, string) \n",
    "print(new_string)\n",
    "\n",
    "# Output: abc12de23f456"
   ]
  },
  {
   "cell_type": "markdown",
   "metadata": {},
   "source": [
    "If the pattern is not found, **`re.sub()`** returns the original string."
   ]
  },
  {
   "cell_type": "markdown",
   "metadata": {},
   "source": [
    "You can pass **`count`** as a fourth parameter to the **`re.sub()`** method. If omited, it results to 0. This will replace all occurrences."
   ]
  },
  {
   "cell_type": "code",
   "execution_count": null,
   "metadata": {},
   "outputs": [],
   "source": [
    "import re\n",
    "\n",
    "# multiline string\n",
    "string = 'abc 12\\\n",
    "de 23 \\n f45 6'\n",
    "\n",
    "# matches all whitespace characters\n",
    "pattern = '\\s+'\n",
    "replace = ''\n",
    "\n",
    "new_string = re.sub(r'\\s+', replace, string, 1) \n",
    "print(new_string)\n",
    "\n",
    "# Output:\n",
    "# abc12de 23\n",
    "# f45 6"
   ]
  },
  {
   "cell_type": "markdown",
   "metadata": {},
   "source": [
    "### 4. `re.subn()`\n",
    "\n",
    "The **`re.subn()`** is similar to **`re.sub()`** expect it returns a tuple of 2 items containing the new string and the number of substitutions made."
   ]
  },
  {
   "cell_type": "code",
   "execution_count": null,
   "metadata": {},
   "outputs": [],
   "source": [
    "# Example 4: re.subn()\n",
    "\n",
    "# Program to remove all whitespaces\n",
    "import re\n",
    "\n",
    "# multiline string\n",
    "string = 'abc 12\\\n",
    "de 23 \\n f45 6'\n",
    "\n",
    "# matches all whitespace characters\n",
    "pattern = '\\s+'\n",
    "\n",
    "# empty string\n",
    "replace = ''\n",
    "\n",
    "new_string = re.subn(pattern, replace, string) \n",
    "print(new_string)\n",
    "\n",
    "# Output: ('abc12de23f456', 4)"
   ]
  },
  {
   "cell_type": "markdown",
   "metadata": {},
   "source": [
    "### 5. `re.search()`\n",
    "\n",
    "The **`re.search()`** method takes two arguments: a pattern and a string. The method looks for the first location where the RegEx pattern produces a match with the string.\n",
    "\n",
    "If the search is successful, **`re.search()`** returns a match object; if not, it returns **`None`**.\n",
    "\n",
    "```python\n",
    "match = re.search(pattern, str)\n",
    "```"
   ]
  },
  {
   "cell_type": "code",
   "execution_count": null,
   "metadata": {},
   "outputs": [],
   "source": [
    "# Example 5: re.search()\n",
    "\n",
    "import re\n",
    "\n",
    "string = \"Python is fun\"\n",
    "\n",
    "# check if 'Python' is at the beginning\n",
    "match = re.search('\\APython', string)\n",
    "\n",
    "if match:\n",
    "  print(\"pattern found inside the string\")\n",
    "else:\n",
    "  print(\"pattern not found\")  \n",
    "\n",
    "# Output: pattern found inside the string"
   ]
  },
  {
   "cell_type": "markdown",
   "metadata": {},
   "source": [
    "Here, **`match`** contains a match object."
   ]
  },
  {
   "cell_type": "markdown",
   "metadata": {},
   "source": [
    "## Match object\n",
    "\n",
    "You can get methods and attributes of a match object using **`dir()`** function.\n",
    "\n",
    "Some of the commonly used methods and attributes of match objects are:"
   ]
  },
  {
   "cell_type": "markdown",
   "metadata": {},
   "source": [
    "### 1. `match.group()`\n",
    "\n",
    "The **`group()`** method returns the part of the string where there is a match."
   ]
  },
  {
   "cell_type": "code",
   "execution_count": null,
   "metadata": {},
   "outputs": [],
   "source": [
    "# Example 6: Match object\n",
    "\n",
    "import re\n",
    "\n",
    "string = '39801 356, 2102 1111'\n",
    "\n",
    "# Three digit number followed by space followed by two digit number\n",
    "pattern = '(\\d{3}) (\\d{2})'\n",
    "\n",
    "# match variable contains a Match object.\n",
    "match = re.search(pattern, string) \n",
    "\n",
    "if match:\n",
    "  print(match.group())\n",
    "else:\n",
    "  print(\"pattern not found\")\n",
    "\n",
    "# Output: 801 35"
   ]
  },
  {
   "cell_type": "markdown",
   "metadata": {},
   "source": [
    "Here, match variable contains a match object.\n",
    "\n",
    "Our pattern **`(\\d{3}) (\\d{2})`** has two subgroups **`(\\d{3})`** and **`(\\d{2})`**. You can get the part of the string of these parenthesized subgroups. Here's how:"
   ]
  },
  {
   "cell_type": "code",
   "execution_count": null,
   "metadata": {},
   "outputs": [],
   "source": [
    "match.group(1)"
   ]
  },
  {
   "cell_type": "code",
   "execution_count": null,
   "metadata": {},
   "outputs": [],
   "source": [
    "match.group(2)"
   ]
  },
  {
   "cell_type": "code",
   "execution_count": null,
   "metadata": {},
   "outputs": [],
   "source": [
    "match.group(1, 2)"
   ]
  },
  {
   "cell_type": "code",
   "execution_count": null,
   "metadata": {},
   "outputs": [],
   "source": [
    "match.groups()"
   ]
  },
  {
   "cell_type": "markdown",
   "metadata": {},
   "source": [
    "### 2. `match.start(), match.end() and match.span()`\n",
    "\n",
    "The **`start()`** function returns the index of the start of the matched substring. Similarly, **`end()`** returns the end index of the matched substring."
   ]
  },
  {
   "cell_type": "code",
   "execution_count": null,
   "metadata": {},
   "outputs": [],
   "source": [
    "match.start()"
   ]
  },
  {
   "cell_type": "code",
   "execution_count": null,
   "metadata": {},
   "outputs": [],
   "source": [
    "match.end()"
   ]
  },
  {
   "cell_type": "markdown",
   "metadata": {},
   "source": [
    "The **`span()`** function returns a tuple containing start and end index of the matched part."
   ]
  },
  {
   "cell_type": "code",
   "execution_count": null,
   "metadata": {},
   "outputs": [],
   "source": [
    "match.span()"
   ]
  },
  {
   "cell_type": "markdown",
   "metadata": {},
   "source": [
    "### 3. `match.re and match.string`\n",
    "\n",
    "The **`re`** attribute of a matched object returns a regular expression object. Similarly, **`string`** attribute returns the passed string."
   ]
  },
  {
   "cell_type": "code",
   "execution_count": null,
   "metadata": {},
   "outputs": [],
   "source": [
    "match.re"
   ]
  },
  {
   "cell_type": "code",
   "execution_count": null,
   "metadata": {},
   "outputs": [],
   "source": [
    "match.string"
   ]
  },
  {
   "cell_type": "markdown",
   "metadata": {},
   "source": [
    "We have covered all commonly used methods defined in the **`re`** module."
   ]
  },
  {
   "cell_type": "markdown",
   "metadata": {},
   "source": [
    "## Using r prefix before RegEx\n",
    "\n",
    "When **`r`** or **`R`** prefix is used before a regular expression, it means raw string. For example, **`'\\n'`** is a new line whereas **`r'\\n'`** means two characters: a backslash **`\\`** followed by **`n`**.\n",
    "\n",
    "Backlash **`\\`** is used to escape various characters including all metacharacters. However, using **`r`** prefix makes **`\\`** treat as a normal character."
   ]
  },
  {
   "cell_type": "code",
   "execution_count": null,
   "metadata": {},
   "outputs": [],
   "source": [
    "# Example 7: Raw string using r prefix\n",
    "\n",
    "import re\n",
    "\n",
    "string = '\\n and \\r are escape sequences.'\n",
    "\n",
    "result = re.findall(r'[\\n\\r]', string) \n",
    "print(result)\n",
    "\n",
    "# Output: ['\\n', '\\r']"
   ]
  },
  {
   "cell_type": "code",
   "execution_count": null,
   "metadata": {},
   "outputs": [],
   "source": []
  }
 ],
 "metadata": {
  "kernelspec": {
   "display_name": "Python 3",
   "language": "python",
   "name": "python3"
  },
  "language_info": {
   "codemirror_mode": {
    "name": "ipython",
    "version": 3
   },
   "file_extension": ".py",
   "mimetype": "text/x-python",
   "name": "python",
   "nbconvert_exporter": "python",
   "pygments_lexer": "ipython3",
   "version": "3.8.3"
  }
 },
 "nbformat": 4,
 "nbformat_minor": 4
}
